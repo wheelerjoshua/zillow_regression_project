{
 "cells": [
  {
   "cell_type": "markdown",
   "id": "12f22257",
   "metadata": {},
   "source": [
    "# Wrangle"
   ]
  },
  {
   "cell_type": "markdown",
   "id": "6081721d",
   "metadata": {},
   "source": [
    "Import modules"
   ]
  },
  {
   "cell_type": "code",
   "execution_count": 1,
   "id": "a8390110",
   "metadata": {},
   "outputs": [],
   "source": [
    "import pandas as pd\n",
    "import numpy as np\n",
    "import os\n",
    "from env import host, user, password\n",
    "from sklearn.model_selection import train_test_split\n",
    "import sklearn.preprocessing\n",
    "import seaborn as sns\n",
    "import matplotlib as plt\n",
    "\n",
    "import warnings\n",
    "warnings.filterwarnings(\"ignore\")"
   ]
  },
  {
   "cell_type": "markdown",
   "id": "923c774d",
   "metadata": {},
   "source": [
    "## Acquire"
   ]
  },
  {
   "cell_type": "code",
   "execution_count": 2,
   "id": "d2978ca1",
   "metadata": {},
   "outputs": [],
   "source": [
    "def get_connection(db, user=user, host=host, password=password):\n",
    "    '''\n",
    "    This function uses my info from my env file to\n",
    "    create a connection url to access the Codeup db.\n",
    "    It takes in a string name of a database as an argument.\n",
    "    '''\n",
    "    return f'mysql+pymysql://{user}:{password}@{host}/{db}'\n",
    "    \n",
    "    \n",
    "def new_zillow_data():\n",
    "    '''\n",
    "    This function reads the Bed/Bath count, Finished Sq Ft, Taxable Value, Year Built, and Amount Taxed\n",
    "    from the 2017 Properties Zillow data from the Codeup SQL server into a df.\n",
    "    '''\n",
    "    sql_query = \"\"\"\n",
    "                SELECT bedroomcnt, bathroomcnt, calculatedfinishedsquarefeet, \n",
    "                taxvaluedollarcnt, yearbuilt, taxamount, fips, transactiondate\n",
    "                FROM properties_2017\n",
    "                JOIN predictions_2017 as p USING(parcelid)\n",
    "                WHERE transactiondate < '2018-01-01' AND propertylandusetypeid LIKE '261'\n",
    "                \"\"\"\n",
    "    \n",
    "    # Read in DataFrame from Codeup db.\n",
    "    df = pd.read_sql(sql_query, get_connection('zillow'))\n",
    "    \n",
    "    return df\n",
    "\n",
    "def get_zillow_data():\n",
    "    '''\n",
    "    This function reads in zillow data from the Codeup database, writes data to\n",
    "    a csv file if a local file does not exist, and returns a df.\n",
    "    '''\n",
    "    if os.path.isfile('zillow.csv'):\n",
    "        \n",
    "        # If csv file exists read in data from csv file.\n",
    "        df = pd.read_csv('zillow.csv', index_col=0)\n",
    "        \n",
    "    else:\n",
    "        \n",
    "        # Read fresh data from db into a DataFrame\n",
    "        df = new_zillow_data()\n",
    "        \n",
    "        # Cache data\n",
    "        df.to_csv('zillow.csv')\n",
    "        \n",
    "    return df\n",
    "\n"
   ]
  },
  {
   "cell_type": "markdown",
   "id": "d3643d3e",
   "metadata": {},
   "source": [
    "## Prepare"
   ]
  },
  {
   "cell_type": "code",
   "execution_count": 3,
   "id": "9accaac8",
   "metadata": {},
   "outputs": [],
   "source": [
    "### Remove outliers\n",
    "def remove_outliers(df, k, col_list):\n",
    "    ''' \n",
    "    Takes in a df, k, and list of columns returns\n",
    "    a df with removed outliers\n",
    "    '''\n",
    "    \n",
    "    for col in col_list:\n",
    "\n",
    "        q1, q3 = df[col].quantile([.25, .75])  # get quartiles\n",
    "        \n",
    "        iqr = q3 - q1   # calculate interquartile range\n",
    "        \n",
    "        upper_bound = q3 + k * iqr   # get upper bound\n",
    "        lower_bound = q1 - k * iqr   # get lower bound\n",
    "\n",
    "        # return dataframe without outliers\n",
    "        \n",
    "        df = df[(df[col] > lower_bound) & (df[col] < upper_bound)]\n",
    "        \n",
    "    return df\n",
    "\n",
    "def prepare(df):\n",
    "    '''\n",
    "    Takes a zillow df as an argument and returns a df with handled nulls, removed nulls, changed column types,\n",
    "    drop duplicates, and remove outliers. Drops taxamount to avoid data leak.\n",
    "    '''\n",
    "    # drop taxamount to prevent data leakage\n",
    "    df.drop(columns = 'taxamount', inplace = True)\n",
    "    # col_list for outliers\n",
    "    col_list = ['bedroomcnt', 'bathroomcnt', 'calculatedfinishedsquarefeet', \n",
    "            'taxvaluedollarcnt', 'yearbuilt', 'fips']\n",
    "    # run df through remove_outliers function for all columns\n",
    "    df = remove_outliers(df, 1.5, col_list)\n",
    "    \n",
    "    # drop duplicates\n",
    "    df.drop_duplicates()\n",
    "\n",
    "    # for loop to change dtypes of appropriate columns to int\n",
    "    for col in df.columns[df.columns != 'transactiondate']:\n",
    "        df[col] = df[col].astype(int)\n",
    "\n",
    "    return df"
   ]
  },
  {
   "cell_type": "markdown",
   "id": "40efc54f",
   "metadata": {},
   "source": [
    "## Split"
   ]
  },
  {
   "cell_type": "code",
   "execution_count": 4,
   "id": "826bc231",
   "metadata": {},
   "outputs": [],
   "source": [
    "def split_data(df):\n",
    "    '''\n",
    "    Takes in a dataframe and returns train, validate, and test subset dataframes. \n",
    "    '''\n",
    "    train, test = train_test_split(df, test_size = .2, random_state = 222)\n",
    "    train, validate = train_test_split(train, test_size = .3, random_state = 222)\n",
    "    return train, validate, test"
   ]
  },
  {
   "cell_type": "markdown",
   "id": "ebf82500",
   "metadata": {},
   "source": [
    "## Scale"
   ]
  },
  {
   "cell_type": "markdown",
   "id": "02459e31",
   "metadata": {},
   "source": [
    "To scale bed and bath"
   ]
  },
  {
   "cell_type": "code",
   "execution_count": 5,
   "id": "97fdcacf",
   "metadata": {},
   "outputs": [],
   "source": [
    "# def scale_zillow(train, validate, test):\n",
    "#     '''\n",
    "#     Takes train, validate, test datasets as an argument and returns the dataframes with \n",
    "#     taxvaluedollarcnt, and calculatedfinishedsquarefeet scaled columns.\n",
    "#     '''\n",
    "#     ## MinMaxScaler\n",
    "#     scaler = sklearn.preprocessing.MinMaxScaler()\n",
    "\n",
    "#     # Fit scaler to data\n",
    "#     scaler.fit(train[['bedroomcnt','bathroomcnt','taxvaluedollarcnt', 'calculatedfinishedsquarefeet']])\n",
    "\n",
    "#     # Execute scaling\n",
    "#     train[['bedroomcnt_scaled','bathroomcnt_scaled','calculatedfinishedsquarefeet_scaled', 'taxvaluedollarcnt_scaled']] = scaler.transform(train[['bedroomcnt','bathroomcnt','calculatedfinishedsquarefeet', 'taxvaluedollarcnt']])\n",
    "#     validate[['bedroomcnt_scaled','bathroomcnt_scaled','calculatedfinishedsquarefeet_scaled', 'taxvaluedollarcnt_scaled']] = scaler.transform(validate[['bedroomcnt','bathroomcnt','calculatedfinishedsquarefeet', 'taxvaluedollarcnt']])\n",
    "#     test[['bedroomcnt_scaled','bathroomcnt_scaled','calculatedfinishedsquarefeet_scaled', 'taxvaluedollarcnt_scaled']] = scaler.transform(test[['bedroomcnt','bathroomcnt','calculatedfinishedsquarefeet', 'taxvaluedollarcnt']])\n",
    "#     return train, validate, test"
   ]
  },
  {
   "cell_type": "markdown",
   "id": "1f05512a",
   "metadata": {},
   "source": [
    "Only scale target and square ft"
   ]
  },
  {
   "cell_type": "code",
   "execution_count": 6,
   "id": "601de296",
   "metadata": {},
   "outputs": [],
   "source": [
    "def scale_zillow(train, validate, test):\n",
    "    '''\n",
    "    Takes train, validate, test datasets as an argument and returns the dataframes with \n",
    "    taxvaluedollarcnt, and calculatedfinishedsquarefeet scaled columns.\n",
    "    '''\n",
    "    ## MinMaxScaler\n",
    "    scaler = sklearn.preprocessing.MinMaxScaler()\n",
    "\n",
    "    # Fit scaler to data\n",
    "    scaler.fit(train[['taxvaluedollarcnt', 'calculatedfinishedsquarefeet']])\n",
    "\n",
    "    # Execute scaling\n",
    "    train[['calculatedfinishedsquarefeet_scaled', 'taxvaluedollarcnt_scaled']] = scaler.transform(train[['calculatedfinishedsquarefeet', 'taxvaluedollarcnt']])\n",
    "    validate[['calculatedfinishedsquarefeet_scaled', 'taxvaluedollarcnt_scaled']] = scaler.transform(validate[['calculatedfinishedsquarefeet', 'taxvaluedollarcnt']])\n",
    "    test[['calculatedfinishedsquarefeet_scaled', 'taxvaluedollarcnt_scaled']] = scaler.transform(test[['calculatedfinishedsquarefeet', 'taxvaluedollarcnt']])\n",
    "    return train, validate, test"
   ]
  },
  {
   "cell_type": "markdown",
   "id": "ea4b2ab5",
   "metadata": {},
   "source": [
    "## Wrangle\n",
    "- All of the functions above combined"
   ]
  },
  {
   "cell_type": "code",
   "execution_count": 7,
   "id": "99272ca7",
   "metadata": {},
   "outputs": [],
   "source": [
    "def wrangle_zillow():\n",
    "    '''\n",
    "    Combines all previously defined functions in the module to return\n",
    "    train, validate, and test datasets.\n",
    "    '''\n",
    "    # Acquire\n",
    "    df = get_zillow_data()\n",
    "    # Prepare ###\n",
    "    df = prepare(df)\n",
    "    ### Split ### \n",
    "    train, validate, test = split_data(df)\n",
    "    ### Scale ###\n",
    "    train, validate, test = scale_zillow(train, validate, test)\n",
    "    return train, validate, test"
   ]
  },
  {
   "cell_type": "markdown",
   "id": "98e98a54",
   "metadata": {},
   "source": [
    "Test Wrangle function"
   ]
  },
  {
   "cell_type": "code",
   "execution_count": 8,
   "id": "3127533f",
   "metadata": {
    "scrolled": true
   },
   "outputs": [],
   "source": [
    "train, validate, test = wrangle_zillow()"
   ]
  },
  {
   "cell_type": "markdown",
   "id": "443ea225",
   "metadata": {},
   "source": [
    "## All functions defined to a module, wrangle.py"
   ]
  },
  {
   "cell_type": "code",
   "execution_count": 9,
   "id": "5ae0b4f1",
   "metadata": {},
   "outputs": [],
   "source": [
    "import wrangle"
   ]
  },
  {
   "cell_type": "code",
   "execution_count": 10,
   "id": "d03adde7",
   "metadata": {},
   "outputs": [],
   "source": [
    "train, validate, test = wrangle.wrangle_zillow()"
   ]
  },
  {
   "cell_type": "code",
   "execution_count": 11,
   "id": "06868d9e",
   "metadata": {},
   "outputs": [
    {
     "data": {
      "text/html": [
       "<div>\n",
       "<style scoped>\n",
       "    .dataframe tbody tr th:only-of-type {\n",
       "        vertical-align: middle;\n",
       "    }\n",
       "\n",
       "    .dataframe tbody tr th {\n",
       "        vertical-align: top;\n",
       "    }\n",
       "\n",
       "    .dataframe thead th {\n",
       "        text-align: right;\n",
       "    }\n",
       "</style>\n",
       "<table border=\"1\" class=\"dataframe\">\n",
       "  <thead>\n",
       "    <tr style=\"text-align: right;\">\n",
       "      <th></th>\n",
       "      <th>bedroomcnt</th>\n",
       "      <th>bathroomcnt</th>\n",
       "      <th>calculatedfinishedsquarefeet</th>\n",
       "      <th>taxvaluedollarcnt</th>\n",
       "      <th>yearbuilt</th>\n",
       "      <th>fips</th>\n",
       "      <th>transactiondate</th>\n",
       "      <th>calculatedfinishedsquarefeet_scaled</th>\n",
       "      <th>taxvaluedollarcnt_scaled</th>\n",
       "    </tr>\n",
       "  </thead>\n",
       "  <tbody>\n",
       "    <tr>\n",
       "      <th>7360</th>\n",
       "      <td>3</td>\n",
       "      <td>2</td>\n",
       "      <td>1340</td>\n",
       "      <td>523394</td>\n",
       "      <td>1973</td>\n",
       "      <td>6059</td>\n",
       "      <td>2017-02-20</td>\n",
       "      <td>0.000303</td>\n",
       "      <td>161.341147</td>\n",
       "    </tr>\n",
       "    <tr>\n",
       "      <th>9763</th>\n",
       "      <td>2</td>\n",
       "      <td>2</td>\n",
       "      <td>1154</td>\n",
       "      <td>323511</td>\n",
       "      <td>1987</td>\n",
       "      <td>6059</td>\n",
       "      <td>2017-03-05</td>\n",
       "      <td>0.000137</td>\n",
       "      <td>99.686922</td>\n",
       "    </tr>\n",
       "    <tr>\n",
       "      <th>13210</th>\n",
       "      <td>4</td>\n",
       "      <td>3</td>\n",
       "      <td>2158</td>\n",
       "      <td>745584</td>\n",
       "      <td>1987</td>\n",
       "      <td>6059</td>\n",
       "      <td>2017-03-23</td>\n",
       "      <td>0.001033</td>\n",
       "      <td>229.876002</td>\n",
       "    </tr>\n",
       "    <tr>\n",
       "      <th>10927</th>\n",
       "      <td>3</td>\n",
       "      <td>2</td>\n",
       "      <td>1186</td>\n",
       "      <td>79729</td>\n",
       "      <td>1988</td>\n",
       "      <td>6037</td>\n",
       "      <td>2017-03-10</td>\n",
       "      <td>0.000166</td>\n",
       "      <td>24.491980</td>\n",
       "    </tr>\n",
       "    <tr>\n",
       "      <th>29356</th>\n",
       "      <td>4</td>\n",
       "      <td>2</td>\n",
       "      <td>2036</td>\n",
       "      <td>540750</td>\n",
       "      <td>1972</td>\n",
       "      <td>6037</td>\n",
       "      <td>2017-06-05</td>\n",
       "      <td>0.000924</td>\n",
       "      <td>166.694633</td>\n",
       "    </tr>\n",
       "  </tbody>\n",
       "</table>\n",
       "</div>"
      ],
      "text/plain": [
       "       bedroomcnt  bathroomcnt  calculatedfinishedsquarefeet  \\\n",
       "7360            3            2                          1340   \n",
       "9763            2            2                          1154   \n",
       "13210           4            3                          2158   \n",
       "10927           3            2                          1186   \n",
       "29356           4            2                          2036   \n",
       "\n",
       "       taxvaluedollarcnt  yearbuilt  fips transactiondate  \\\n",
       "7360              523394       1973  6059      2017-02-20   \n",
       "9763              323511       1987  6059      2017-03-05   \n",
       "13210             745584       1987  6059      2017-03-23   \n",
       "10927              79729       1988  6037      2017-03-10   \n",
       "29356             540750       1972  6037      2017-06-05   \n",
       "\n",
       "       calculatedfinishedsquarefeet_scaled  taxvaluedollarcnt_scaled  \n",
       "7360                              0.000303                161.341147  \n",
       "9763                              0.000137                 99.686922  \n",
       "13210                             0.001033                229.876002  \n",
       "10927                             0.000166                 24.491980  \n",
       "29356                             0.000924                166.694633  "
      ]
     },
     "execution_count": 11,
     "metadata": {},
     "output_type": "execute_result"
    }
   ],
   "source": [
    "train.head()"
   ]
  },
  {
   "cell_type": "code",
   "execution_count": 12,
   "id": "daaf4bd5",
   "metadata": {},
   "outputs": [
    {
     "data": {
      "text/plain": [
       "(23170, 9)"
      ]
     },
     "execution_count": 12,
     "metadata": {},
     "output_type": "execute_result"
    }
   ],
   "source": [
    "train.shape"
   ]
  },
  {
   "cell_type": "markdown",
   "id": "4920628f",
   "metadata": {},
   "source": [
    "# Explore"
   ]
  },
  {
   "cell_type": "markdown",
   "id": "9bfba269",
   "metadata": {},
   "source": [
    "## Ask Questions\n",
    "1. Do houses with higher square footage have a higher calculated tax value?\n",
    "2. Do houses with more bathrooms have a higher calculated tax value?\n",
    "3. Do houses with more bedrooms have a higher calculated tax value?\n",
    "4. Do houses with less bedrooms and higher square footage have a lower tax value than houses with more bedrooms and a higher square footage?\n",
    "5. Do individual fips have higher average tax value?"
   ]
  },
  {
   "cell_type": "code",
   "execution_count": 13,
   "id": "0f8da2cd",
   "metadata": {},
   "outputs": [],
   "source": [
    "import explore"
   ]
  },
  {
   "cell_type": "code",
   "execution_count": 14,
   "id": "ee2013fa",
   "metadata": {},
   "outputs": [
    {
     "data": {
      "text/plain": [
       "<AxesSubplot:xlabel='bedroomcnt', ylabel='taxvaluedollarcnt'>"
      ]
     },
     "execution_count": 14,
     "metadata": {},
     "output_type": "execute_result"
    },
    {
     "data": {
      "image/png": "[encoded data removed]",
      "text/plain": [
       "<Figure size 432x288 with 1 Axes>"
      ]
     },
     "metadata": {
      "needs_background": "light"
     },
     "output_type": "display_data"
    }
   ],
   "source": [
    "sns.boxplot(x = 'bedroomcnt',y='taxvaluedollarcnt',data = train)"
   ]
  },
  {
   "cell_type": "code",
   "execution_count": null,
   "id": "b422951a",
   "metadata": {},
   "outputs": [],
   "source": [
    "categories = ['bedroomcnt','bathroomcnt','calculatedfinishedsquarefeet','fips','yearbuilt']\n",
    "continuous = ['taxvaluedollarcnt']\n",
    "explore.plot_categorical_and_continuous_vars(train,continuous,categories)"
   ]
  },
  {
   "cell_type": "code",
   "execution_count": null,
   "id": "c57091b5",
   "metadata": {},
   "outputs": [],
   "source": [
    "explore.plot_variable_pairs(train)"
   ]
  },
  {
   "cell_type": "code",
   "execution_count": null,
   "id": "52c682d9",
   "metadata": {},
   "outputs": [],
   "source": []
  }
 ],
 "metadata": {
  "kernelspec": {
   "display_name": "Python 3",
   "language": "python",
   "name": "python3"
  },
  "language_info": {
   "codemirror_mode": {
    "name": "ipython",
    "version": 3
   },
   "file_extension": ".py",
   "mimetype": "text/x-python",
   "name": "python",
   "nbconvert_exporter": "python",
   "pygments_lexer": "ipython3",
   "version": "3.8.8"
  }
 },
 "nbformat": 4,
 "nbformat_minor": 5
}
